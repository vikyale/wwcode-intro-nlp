{
  "nbformat": 4,
  "nbformat_minor": 0,
  "metadata": {
    "colab": {
      "name": "nlp-tensorflow-1.ipynb",
      "provenance": [],
      "collapsed_sections": []
    },
    "kernelspec": {
      "display_name": "Python 3",
      "name": "python3"
    }
  },
  "cells": [
    {
      "cell_type": "markdown",
      "metadata": {
        "id": "9pB8xdNCr2YH"
      },
      "source": [
        "# NLP using Tensorflow.\n",
        "### WWCode CONNECT REIMAGINE 2021\n",
        "\n",
        "* Autor : Victoria Ubaldo @vikyale"
      ]
    },
    {
      "cell_type": "markdown",
      "metadata": {
        "id": "fFv-USWkhQKA"
      },
      "source": [
        "# Tokenizing text and creating sequences for sentences"
      ]
    },
    {
      "cell_type": "markdown",
      "metadata": {
        "id": "4mGaRDFcSamt"
      },
      "source": [
        "## Import libraries"
      ]
    },
    {
      "cell_type": "code",
      "metadata": {
        "id": "EN1-FZodOuPl"
      },
      "source": [
        "# Import libraries\n",
        "import json\n",
        "import tensorflow as tf\n",
        "\n",
        "from tensorflow.keras.preprocessing.text import Tokenizer\n",
        "from tensorflow.keras.preprocessing.sequence import pad_sequences\n"
      ],
      "execution_count": null,
      "outputs": []
    },
    {
      "cell_type": "markdown",
      "metadata": {
        "id": "C5Qwn_7FSXW-"
      },
      "source": [
        "## Write some sentences\n",
        "\n",
        "Feel free to change and add sentences as you like"
      ]
    },
    {
      "cell_type": "code",
      "metadata": {
        "id": "RMiq8BpWVVRa"
      },
      "source": [
        "sentences = [\n",
        "    'My favority drink is coffee',\n",
        "    'My favorite food is mochi',\n",
        "    'do you like mochi too?',\n",
        "    \"your favorite flavor of mochi is chocolate\"\n",
        "]"
      ],
      "execution_count": null,
      "outputs": []
    },
    {
      "cell_type": "markdown",
      "metadata": {
        "id": "wz845OtfRBCM"
      },
      "source": [
        "## Tokenize the words\n"
      ]
    },
    {
      "cell_type": "code",
      "metadata": {
        "id": "ZHTK1DAlQ1zO"
      },
      "source": [
        "# Optionally set the max number of words to tokenize.\n",
        "# The out of vocabulary (OOV) token represents words that are not in the index.\n",
        "# Call fit_on_text() on the tokenizer to generate unique numbers for each word\n",
        "\n",
        "tokenizer = Tokenizer(num_words = 100, oov_token=\"<OOV>\")\n",
        "tokenizer.fit_on_texts(sentences)"
      ],
      "execution_count": null,
      "outputs": []
    },
    {
      "cell_type": "markdown",
      "metadata": {
        "id": "Mylv-WuiRzd0"
      },
      "source": [
        "## View the word index"
      ]
    },
    {
      "cell_type": "code",
      "metadata": {
        "id": "kX4VvsLySC7Z",
        "colab": {
          "base_uri": "https://localhost:8080/"
        },
        "outputId": "bd90cf6a-b37e-48e6-faa8-312d546147ee"
      },
      "source": [
        "# Examine the word index\n",
        "word_index = tokenizer.word_index\n",
        "print(word_index)"
      ],
      "execution_count": null,
      "outputs": [
        {
          "output_type": "stream",
          "text": [
            "{'<OOV>': 1, 'is': 2, 'mochi': 3, 'my': 4, 'favorite': 5, 'favority': 6, 'drink': 7, 'coffee': 8, 'food': 9, 'do': 10, 'you': 11, 'like': 12, 'too': 13, 'your': 14, 'flavor': 15, 'of': 16, 'chocolate': 17}\n"
          ],
          "name": "stdout"
        }
      ]
    },
    {
      "cell_type": "code",
      "metadata": {
        "id": "JXKrGxsIVtLo",
        "colab": {
          "base_uri": "https://localhost:8080/"
        },
        "outputId": "b2fd4982-f1ed-4be9-ea41-cdcab57c7643"
      },
      "source": [
        "# Get the number for a given word\n",
        "print(word_index['mochi'])"
      ],
      "execution_count": null,
      "outputs": [
        {
          "output_type": "stream",
          "text": [
            "3\n"
          ],
          "name": "stdout"
        }
      ]
    },
    {
      "cell_type": "markdown",
      "metadata": {
        "id": "kcN_yM8O1oSX"
      },
      "source": [
        "# Create sequences for the sentences\n",
        "\n",
        "After you tokenize the words, the word index contains a unique number for each word. However, the numbers in the word index are not ordered. Words in a sentence have an order. So after tokenizing the words, the next step is to generate sequences for the sentences."
      ]
    },
    {
      "cell_type": "code",
      "metadata": {
        "id": "QlUL6Ybf1sso",
        "colab": {
          "base_uri": "https://localhost:8080/"
        },
        "outputId": "df1e52bf-3c08-4156-e8d8-8041102bcf85"
      },
      "source": [
        "sequences = tokenizer.texts_to_sequences(sentences)\n",
        "print (sequences)"
      ],
      "execution_count": null,
      "outputs": [
        {
          "output_type": "stream",
          "text": [
            "[[4, 6, 7, 2, 8], [4, 5, 9, 2, 3], [10, 11, 12, 3, 13], [14, 5, 15, 16, 3, 2, 17]]\n"
          ],
          "name": "stdout"
        }
      ]
    },
    {
      "cell_type": "markdown",
      "metadata": {
        "id": "AswZPbuW8f-f"
      },
      "source": [
        "# Sequence sentences that contain words that are not in the word index\n",
        "\n",
        "Let's take a look at what happens if the sentence being sequenced contains words that are not in the word index.\n",
        "\n",
        "The Out of Vocabluary (OOV) token is the first entry in the word index. You will see it shows up in the sequences in place of any word that is not in the word index."
      ]
    },
    {
      "cell_type": "code",
      "metadata": {
        "id": "Fir7qd6X8eZc",
        "colab": {
          "base_uri": "https://localhost:8080/"
        },
        "outputId": "03aadcaa-c153-4f0a-8233-d5591b7ebd43"
      },
      "source": [
        "sentences2 = [\"I like hot chocolate\", \"My dogs and my hedgehog like kibble but my squirrel prefers grapes and my chickens like ice cream, preferably vanilla\"]\n",
        "\n",
        "sequences2 = tokenizer.texts_to_sequences(sentences2)\n",
        "print(sequences2)"
      ],
      "execution_count": null,
      "outputs": [
        {
          "output_type": "stream",
          "text": [
            "[[1, 12, 1, 17], [4, 1, 1, 4, 1, 12, 1, 1, 4, 1, 1, 1, 1, 4, 1, 12, 1, 1, 1, 1]]\n"
          ],
          "name": "stdout"
        }
      ]
    },
    {
      "cell_type": "markdown",
      "metadata": {
        "id": "x7feRFXUGr4B"
      },
      "source": [
        "## Make the sequences all the same length¶\n"
      ]
    },
    {
      "cell_type": "code",
      "metadata": {
        "colab": {
          "base_uri": "https://localhost:8080/"
        },
        "id": "sBIz-tVHGwBD",
        "outputId": "5b3130f7-de89-485c-bfb2-8ac49906969e"
      },
      "source": [
        "padded = pad_sequences(sequences)\n",
        "print(\"\\nWord Index = \" , word_index)\n",
        "print(\"\\nSequences = \" , sequences)\n",
        "print(\"\\nPadded Sequences:\")\n",
        "print(padded)"
      ],
      "execution_count": null,
      "outputs": [
        {
          "output_type": "stream",
          "text": [
            "\n",
            "Word Index =  {'<OOV>': 1, 'is': 2, 'mochi': 3, 'my': 4, 'favorite': 5, 'favority': 6, 'drink': 7, 'coffee': 8, 'food': 9, 'do': 10, 'you': 11, 'like': 12, 'too': 13, 'your': 14, 'flavor': 15, 'of': 16, 'chocolate': 17}\n",
            "\n",
            "Sequences =  [[4, 6, 7, 2, 8], [4, 5, 9, 2, 3], [10, 11, 12, 3, 13], [14, 5, 15, 16, 3, 2, 17]]\n",
            "\n",
            "Padded Sequences:\n",
            "[[ 0  0  4  6  7  2  8]\n",
            " [ 0  0  4  5  9  2  3]\n",
            " [ 0  0 10 11 12  3 13]\n",
            " [14  5 15 16  3  2 17]]\n"
          ],
          "name": "stdout"
        }
      ]
    },
    {
      "cell_type": "code",
      "metadata": {
        "colab": {
          "base_uri": "https://localhost:8080/"
        },
        "id": "58Lb7wehGv8n",
        "outputId": "746b090b-88a3-46e6-c2e7-52f60f44665b"
      },
      "source": [
        "# Specify a max length for the padded sequences\n",
        "padded = pad_sequences(sequences, maxlen=15)\n",
        "print(padded)"
      ],
      "execution_count": null,
      "outputs": [
        {
          "output_type": "stream",
          "text": [
            "[[ 0  0  0  0  0  0  0  0  0  0  4  6  7  2  8]\n",
            " [ 0  0  0  0  0  0  0  0  0  0  4  5  9  2  3]\n",
            " [ 0  0  0  0  0  0  0  0  0  0 10 11 12  3 13]\n",
            " [ 0  0  0  0  0  0  0  0 14  5 15 16  3  2 17]]\n"
          ],
          "name": "stdout"
        }
      ]
    },
    {
      "cell_type": "code",
      "metadata": {
        "colab": {
          "base_uri": "https://localhost:8080/"
        },
        "id": "FLtRVXV6G_u1",
        "outputId": "1efe59b3-78d0-40bc-fdd5-61b281c0a30b"
      },
      "source": [
        "# Put the padding at the end of the sequences\n",
        "padded = pad_sequences(sequences, maxlen=15, padding=\"post\")\n",
        "print(padded)"
      ],
      "execution_count": null,
      "outputs": [
        {
          "output_type": "stream",
          "text": [
            "[[ 4  6  7  2  8  0  0  0  0  0  0  0  0  0  0]\n",
            " [ 4  5  9  2  3  0  0  0  0  0  0  0  0  0  0]\n",
            " [10 11 12  3 13  0  0  0  0  0  0  0  0  0  0]\n",
            " [14  5 15 16  3  2 17  0  0  0  0  0  0  0  0]]\n"
          ],
          "name": "stdout"
        }
      ]
    },
    {
      "cell_type": "code",
      "metadata": {
        "colab": {
          "base_uri": "https://localhost:8080/"
        },
        "id": "9_KNtCx7G_k7",
        "outputId": "1984953d-a64f-4378-faf0-65df2b281ff9"
      },
      "source": [
        "# Limit the length of the sequences, you will see some sequences get truncated\n",
        "padded = pad_sequences(sequences, maxlen=3)\n",
        "print(padded)"
      ],
      "execution_count": null,
      "outputs": [
        {
          "output_type": "stream",
          "text": [
            "[[ 7  2  8]\n",
            " [ 9  2  3]\n",
            " [12  3 13]\n",
            " [ 3  2 17]]\n"
          ],
          "name": "stdout"
        }
      ]
    },
    {
      "cell_type": "code",
      "metadata": {
        "colab": {
          "base_uri": "https://localhost:8080/"
        },
        "id": "XBXs3o4IHJrJ",
        "outputId": "97c6dee4-606d-41c9-8d23-22f8a46a0cf4"
      },
      "source": [
        "# Try turning sentences that contain words that \n",
        "# aren't in the word index into sequences.\n",
        "# Add your own sentences to the test_data\n",
        "test_data = [\n",
        "    \"my best friend's favorite ice cream flavor is strawberry\",\n",
        "    \"my dog's best friend is a manatee\"\n",
        "]\n",
        "print (test_data)\n",
        "\n",
        "# Remind ourselves which number corresponds to the\n",
        "# out of vocabulary token in the word index\n",
        "print(\"<OOV> has the number\", word_index['<OOV>'], \"in the word index.\")\n",
        "\n",
        "# Convert the test sentences to sequences\n",
        "test_seq = tokenizer.texts_to_sequences(test_data)\n",
        "print(\"\\nTest Sequence = \", test_seq)\n",
        "\n",
        "# Pad the new sequences\n",
        "padded = pad_sequences(test_seq, maxlen=10)\n",
        "print(\"\\nPadded Test Sequence: \")\n",
        "\n",
        "# Notice that \"1\" appears in the sequence wherever there's a word \n",
        "# that's not in the word index\n",
        "print(padded)"
      ],
      "execution_count": null,
      "outputs": [
        {
          "output_type": "stream",
          "text": [
            "[\"my best friend's favorite ice cream flavor is strawberry\", \"my dog's best friend is a manatee\"]\n",
            "<OOV> has the number 1 in the word index.\n",
            "\n",
            "Test Sequence =  [[4, 1, 1, 5, 1, 1, 15, 2, 1], [4, 1, 1, 1, 2, 1, 1]]\n",
            "\n",
            "Padded Test Sequence: \n",
            "[[ 0  4  1  1  5  1  1 15  2  1]\n",
            " [ 0  0  0  4  1  1  1  2  1  1]]\n"
          ],
          "name": "stdout"
        }
      ]
    },
    {
      "cell_type": "markdown",
      "metadata": {
        "id": "aqQcpzaZISUB"
      },
      "source": [
        "## Recognize Sentiment in Text"
      ]
    },
    {
      "cell_type": "code",
      "metadata": {
        "id": "bMXQPm1CH3cs"
      },
      "source": [
        "import tensorflow as tf\n",
        "\n",
        "from tensorflow.keras.preprocessing.text import Tokenizer\n",
        "from tensorflow.keras.preprocessing.sequence import pad_sequences"
      ],
      "execution_count": null,
      "outputs": []
    },
    {
      "cell_type": "markdown",
      "metadata": {
        "id": "J2qoNqbRJ47v"
      },
      "source": [
        "## Dataset"
      ]
    },
    {
      "cell_type": "code",
      "metadata": {
        "colab": {
          "base_uri": "https://localhost:8080/"
        },
        "id": "ZtGiQ_isH3aC",
        "outputId": "8222b816-862a-4fbb-d3e0-96370a10669b"
      },
      "source": [
        "!wget --no-check-certificate \\\n",
        "    -O /tmp/sentiment.csv https://drive.google.com/uc?id=13ySLC_ue6Umt9RJYSeM2t-V0kCv-4C-P"
      ],
      "execution_count": null,
      "outputs": [
        {
          "output_type": "stream",
          "text": [
            "--2021-06-10 17:12:22--  https://drive.google.com/uc?id=13ySLC_ue6Umt9RJYSeM2t-V0kCv-4C-P\n",
            "Resolving drive.google.com (drive.google.com)... 172.217.204.113, 172.217.204.139, 172.217.204.138, ...\n",
            "Connecting to drive.google.com (drive.google.com)|172.217.204.113|:443... connected.\n",
            "HTTP request sent, awaiting response... 302 Moved Temporarily\n",
            "Location: https://doc-08-ak-docs.googleusercontent.com/docs/securesc/ha0ro937gcuc7l7deffksulhg5h7mbp1/hc61m1ihfgpjf6ldhckgjknuqe6qknlh/1623345075000/11118900490791463723/*/13ySLC_ue6Umt9RJYSeM2t-V0kCv-4C-P [following]\n",
            "Warning: wildcards not supported in HTTP.\n",
            "--2021-06-10 17:12:23--  https://doc-08-ak-docs.googleusercontent.com/docs/securesc/ha0ro937gcuc7l7deffksulhg5h7mbp1/hc61m1ihfgpjf6ldhckgjknuqe6qknlh/1623345075000/11118900490791463723/*/13ySLC_ue6Umt9RJYSeM2t-V0kCv-4C-P\n",
            "Resolving doc-08-ak-docs.googleusercontent.com (doc-08-ak-docs.googleusercontent.com)... 172.217.193.132, 2607:f8b0:400c:c03::84\n",
            "Connecting to doc-08-ak-docs.googleusercontent.com (doc-08-ak-docs.googleusercontent.com)|172.217.193.132|:443... connected.\n",
            "HTTP request sent, awaiting response... 200 OK\n",
            "Length: 127831 (125K) [text/csv]\n",
            "Saving to: ‘/tmp/sentiment.csv’\n",
            "\n",
            "/tmp/sentiment.csv  100%[===================>] 124.83K  --.-KB/s    in 0.001s  \n",
            "\n",
            "2021-06-10 17:12:23 (113 MB/s) - ‘/tmp/sentiment.csv’ saved [127831/127831]\n",
            "\n"
          ],
          "name": "stdout"
        }
      ]
    },
    {
      "cell_type": "code",
      "metadata": {
        "id": "YWU0elDLIgpP"
      },
      "source": [
        "import numpy as np\n",
        "import pandas as pd\n",
        "\n",
        "dataset = pd.read_csv('/tmp/sentiment.csv')\n",
        "\n"
      ],
      "execution_count": null,
      "outputs": []
    },
    {
      "cell_type": "code",
      "metadata": {
        "colab": {
          "base_uri": "https://localhost:8080/",
          "height": 204
        },
        "id": "Y5rSHjitKGfi",
        "outputId": "f5a04eb8-ad18-4908-9f7d-5863061ae767"
      },
      "source": [
        "#Explore dataset\n",
        "dataset.head(5)"
      ],
      "execution_count": null,
      "outputs": [
        {
          "output_type": "execute_result",
          "data": {
            "text/html": [
              "<div>\n",
              "<style scoped>\n",
              "    .dataframe tbody tr th:only-of-type {\n",
              "        vertical-align: middle;\n",
              "    }\n",
              "\n",
              "    .dataframe tbody tr th {\n",
              "        vertical-align: top;\n",
              "    }\n",
              "\n",
              "    .dataframe thead th {\n",
              "        text-align: right;\n",
              "    }\n",
              "</style>\n",
              "<table border=\"1\" class=\"dataframe\">\n",
              "  <thead>\n",
              "    <tr style=\"text-align: right;\">\n",
              "      <th></th>\n",
              "      <th>Unnamed: 0</th>\n",
              "      <th>text</th>\n",
              "      <th>sentiment</th>\n",
              "    </tr>\n",
              "  </thead>\n",
              "  <tbody>\n",
              "    <tr>\n",
              "      <th>0</th>\n",
              "      <td>0</td>\n",
              "      <td>So there is no way for me to plug it in here i...</td>\n",
              "      <td>0</td>\n",
              "    </tr>\n",
              "    <tr>\n",
              "      <th>1</th>\n",
              "      <td>1</td>\n",
              "      <td>Good case Excellent value.</td>\n",
              "      <td>1</td>\n",
              "    </tr>\n",
              "    <tr>\n",
              "      <th>2</th>\n",
              "      <td>2</td>\n",
              "      <td>Great for the jawbone.</td>\n",
              "      <td>1</td>\n",
              "    </tr>\n",
              "    <tr>\n",
              "      <th>3</th>\n",
              "      <td>3</td>\n",
              "      <td>Tied to charger for conversations lasting more...</td>\n",
              "      <td>0</td>\n",
              "    </tr>\n",
              "    <tr>\n",
              "      <th>4</th>\n",
              "      <td>4</td>\n",
              "      <td>The mic is great.</td>\n",
              "      <td>1</td>\n",
              "    </tr>\n",
              "  </tbody>\n",
              "</table>\n",
              "</div>"
            ],
            "text/plain": [
              "   Unnamed: 0                                               text  sentiment\n",
              "0           0  So there is no way for me to plug it in here i...          0\n",
              "1           1                         Good case Excellent value.          1\n",
              "2           2                             Great for the jawbone.          1\n",
              "3           3  Tied to charger for conversations lasting more...          0\n",
              "4           4                                  The mic is great.          1"
            ]
          },
          "metadata": {
            "tags": []
          },
          "execution_count": 16
        }
      ]
    },
    {
      "cell_type": "code",
      "metadata": {
        "id": "olrnqtWPR7iz"
      },
      "source": [
        "sentences = dataset['text'].tolist()\n",
        "labels = dataset['sentiment'].tolist()\n",
        "\n",
        "# Separate out the sentences and labels into training and test sets\n",
        "training_size = int(len(sentences) * 0.8)\n",
        "\n",
        "training_sentences = sentences[0:training_size]\n",
        "testing_sentences = sentences[training_size:]\n",
        "training_labels = labels[0:training_size]\n",
        "testing_labels = labels[training_size:]\n",
        "\n",
        "# Make labels into numpy arrays for use with the network later\n",
        "training_labels_final = np.array(training_labels)\n",
        "testing_labels_final = np.array(testing_labels)"
      ],
      "execution_count": null,
      "outputs": []
    },
    {
      "cell_type": "code",
      "metadata": {
        "colab": {
          "base_uri": "https://localhost:8080/"
        },
        "id": "eHMnM-fBUuIr",
        "outputId": "7baa0c4b-6df7-4f11-9a5d-ce19fe5ebf58"
      },
      "source": [
        "len(training_sentences)"
      ],
      "execution_count": null,
      "outputs": [
        {
          "output_type": "execute_result",
          "data": {
            "text/plain": [
              "1593"
            ]
          },
          "metadata": {
            "tags": []
          },
          "execution_count": 19
        }
      ]
    },
    {
      "cell_type": "code",
      "metadata": {
        "colab": {
          "base_uri": "https://localhost:8080/"
        },
        "id": "JvO7XXRzU7WG",
        "outputId": "6eeb91d1-6a8c-4ac1-b3d2-d6c6dfb6bd7c"
      },
      "source": [
        "len(testing_sentences)"
      ],
      "execution_count": null,
      "outputs": [
        {
          "output_type": "execute_result",
          "data": {
            "text/plain": [
              "399"
            ]
          },
          "metadata": {
            "tags": []
          },
          "execution_count": 20
        }
      ]
    },
    {
      "cell_type": "code",
      "metadata": {
        "colab": {
          "base_uri": "https://localhost:8080/"
        },
        "id": "nv_k3BXtSD7N",
        "outputId": "4606e008-f66d-4f3a-ea4d-d785ab144aa2"
      },
      "source": [
        "training_sentences[:3]"
      ],
      "execution_count": null,
      "outputs": [
        {
          "output_type": "execute_result",
          "data": {
            "text/plain": [
              "['So there is no way for me to plug it in here in the US unless I go by a converter.',\n",
              " 'Good case Excellent value.',\n",
              " 'Great for the jawbone.']"
            ]
          },
          "metadata": {
            "tags": []
          },
          "execution_count": 21
        }
      ]
    },
    {
      "cell_type": "markdown",
      "metadata": {
        "id": "LwRIRu95Iow2"
      },
      "source": [
        "## Tokenize the dataset"
      ]
    },
    {
      "cell_type": "code",
      "metadata": {
        "id": "nVDFRgSwIgld"
      },
      "source": [
        "# Tokenize the dataset, including padding and OOV\n",
        "\n",
        "vocab_size = 1000\n",
        "embedding_dim = 16\n",
        "max_length = 100\n",
        "trunc_type='post'\n",
        "padding_type='post'\n",
        "oov_tok = \"<OOV>\"\n",
        "\n",
        "\n",
        "from tensorflow.keras.preprocessing.text import Tokenizer\n",
        "from tensorflow.keras.preprocessing.sequence import pad_sequences\n",
        "\n",
        "\n",
        "tokenizer = Tokenizer(num_words = vocab_size, oov_token=oov_tok)\n",
        "\n",
        "##Create token for every word in the corpus, only in training sentences!\n",
        "tokenizer.fit_on_texts(training_sentences)\n",
        "word_index = tokenizer.word_index\n"
      ],
      "execution_count": null,
      "outputs": []
    },
    {
      "cell_type": "code",
      "metadata": {
        "colab": {
          "base_uri": "https://localhost:8080/"
        },
        "id": "4KhsxVXZTFeZ",
        "outputId": "fe28a179-ced8-4f7c-aff7-98aa1eafcdcb"
      },
      "source": [
        "print(word_index)"
      ],
      "execution_count": null,
      "outputs": [
        {
          "output_type": "stream",
          "text": [
            "{'<OOV>': 1, 'the': 2, 'and': 3, 'i': 4, 'it': 5, 'a': 6, 'is': 7, 'to': 8, 'this': 9, 'was': 10, 'of': 11, 'my': 12, 'for': 13, 'not': 14, 'phone': 15, 'in': 16, 'very': 17, 'with': 18, 'great': 19, 'good': 20, 'on': 21, 'that': 22, 'have': 23, 'you': 24, 'had': 25, 'so': 26, 'but': 27, 'are': 28, 'food': 29, 'service': 30, 'be': 31, 'as': 32, 'place': 33, 'all': 34, 'like': 35, 'quality': 36, 'time': 37, 'product': 38, 'one': 39, 'at': 40, 'we': 41, 'well': 42, 'they': 43, 'would': 44, 'back': 45, 'if': 46, 'headset': 47, 'works': 48, 'battery': 49, 'really': 50, \"don't\": 51, 'sound': 52, 'your': 53, 'use': 54, 'best': 55, 'up': 56, 'from': 57, 'has': 58, 'just': 59, 'an': 60, \"i've\": 61, 'will': 62, 'no': 63, 'were': 64, 'only': 65, 'also': 66, 'me': 67, 'there': 68, 'ever': 69, 'than': 70, \"it's\": 71, 'out': 72, 'nice': 73, 'ear': 74, 'go': 75, 'excellent': 76, 'when': 77, 'first': 78, 'work': 79, 'recommend': 80, '2': 81, 'here': 82, 'after': 83, \"i'm\": 84, 'or': 85, 'never': 86, 'too': 87, 'love': 88, 'price': 89, 'case': 90, 'get': 91, 'can': 92, 'been': 93, 'more': 94, 'what': 95, 'any': 96, 'could': 97, 'again': 98, 'even': 99, 'because': 100, 'better': 101, 'did': 102, 'does': 103, 'about': 104, 'do': 105, 'made': 106, 'which': 107, 'our': 108, 'by': 109, 'now': 110, 'their': 111, 'bad': 112, 'other': 113, 'am': 114, 'worst': 115, 'them': 116, 'much': 117, 'got': 118, 'money': 119, 'new': 120, 'disappointed': 121, 'enough': 122, 'these': 123, 'delicious': 124, 'then': 125, 'think': 126, 'still': 127, 'happy': 128, 'off': 129, 'minutes': 130, 'right': 131, 'car': 132, 'pretty': 133, 'item': 134, 'worked': 135, 'friendly': 136, 'charger': 137, 'buy': 138, 'while': 139, 'vegas': 140, 'waste': 141, 'comfortable': 142, 'far': 143, 'poor': 144, 'bluetooth': 145, 'easy': 146, 'some': 147, 'he': 148, 'two': 149, 'bought': 150, 'everything': 151, 'few': 152, 'definitely': 153, 'reception': 154, 'used': 155, 'restaurant': 156, 'going': 157, 'how': 158, 'went': 159, 'people': 160, \"doesn't\": 161, 'fine': 162, 'thing': 163, '1': 164, 'its': 165, 'being': 166, \"didn't\": 167, 'make': 168, 'piece': 169, 'over': 170, 'came': 171, 'always': 172, 'way': 173, 'say': 174, 'long': 175, 'charge': 176, 'little': 177, 'life': 178, 'purchase': 179, 'down': 180, 'cell': 181, 'terrible': 182, 'times': 183, 'take': 184, 'amazing': 185, '5': 186, 'problem': 187, '3': 188, 'camera': 189, 'want': 190, 'calls': 191, 'device': 192, 'know': 193, 'same': 194, 'another': 195, 'come': 196, 'us': 197, 'problems': 198, 'volume': 199, 'into': 200, 'last': 201, 'hear': 202, 'clear': 203, 'lot': 204, 'working': 205, 'found': 206, 'using': 207, 'motorola': 208, 'fit': 209, 'small': 210, 'fantastic': 211, 'every': 212, 'before': 213, 'horrible': 214, 'worth': 215, 'many': 216, 'quite': 217, 'plug': 218, 'impressed': 219, 'design': 220, 'highly': 221, 'makes': 222, 'years': 223, 'sure': 224, 'order': 225, 'both': 226, \"couldn't\": 227, 'fits': 228, 'look': 229, 'experience': 230, 'ordered': 231, 'customer': 232, 'try': 233, 'nothing': 234, \"can't\": 235, 'taste': 236, 'staff': 237, 'several': 238, 'loved': 239, 'without': 240, 'months': 241, 'left': 242, 'phones': 243, 'real': 244, 'since': 245, 'looks': 246, 'cool': 247, 'tried': 248, 'call': 249, 'around': 250, 'screen': 251, 'cheap': 252, 'side': 253, 'where': 254, 'overall': 255, \"i'd\": 256, 'year': 257, 'stars': 258, 'however': 259, 'deal': 260, 'give': 261, \"wasn't\": 262, \"won't\": 263, 'fresh': 264, 'salad': 265, 'steak': 266, 'waited': 267, 'days': 268, 'she': 269, 'talk': 270, 'find': 271, 'wear': 272, 'kind': 273, 'perfectly': 274, '10': 275, 'night': 276, 'company': 277, 'either': 278, 'old': 279, 'low': 280, 'amazon': 281, 'hard': 282, 'said': 283, 'day': 284, 'next': 285, 'menu': 286, 'burger': 287, 'pizza': 288, 'who': 289, 'absolutely': 290, 'most': 291, 'need': 292, 'priced': 293, 'verizon': 294, 'dropped': 295, 'buttons': 296, 'seriously': 297, 'big': 298, 'broke': 299, 'black': 300, 'light': 301, 'completely': 302, 'jabra': 303, 'voice': 304, 'area': 305, 'slow': 306, 'probably': 307, 'return': 308, 'junk': 309, 'looking': 310, \"i'll\": 311, 'unit': 312, 'away': 313, 'anyone': 314, 'took': 315, 'none': 316, 'tasty': 317, 'selection': 318, 'eat': 319, 'breakfast': 320, 'flavor': 321, 'must': 322, 'everyone': 323, 'helpful': 324, 'kept': 325, 'picture': 326, 'audio': 327, 'loud': 328, 'end': 329, 'different': 330, 'feels': 331, 'headsets': 332, 'gets': 333, 'home': 334, 'arrived': 335, 'quickly': 336, 'received': 337, 'pleased': 338, 'job': 339, 'getting': 340, 'software': 341, 'hours': 342, 'internet': 343, 'less': 344, 'stay': 345, 'extremely': 346, 'useless': 347, 'felt': 348, 'hands': 349, 'family': 350, 'nokia': 351, 'sucks': 352, 'couple': 353, 'disappointing': 354, 'bland': 355, 'those': 356, 'wrong': 357, 'things': 358, 'feel': 359, 'coming': 360, 'waitress': 361, 'sushi': 362, 'unless': 363, 'value': 364, 'each': 365, 'original': 366, 'though': 367, 'bars': 368, 'three': 369, 'simple': 370, 'ears': 371, 'hate': 372, 'turn': 373, 'headphones': 374, 'week': 375, 'later': 376, 'within': 377, 'expect': 378, 'free': 379, 'huge': 380, 'high': 381, 'fast': 382, 'full': 383, 'may': 384, 'signal': 385, 'avoid': 386, 'glad': 387, 'put': 388, 'awesome': 389, 'incredible': 390, 'check': 391, 'color': 392, 'part': 393, 'expected': 394, 'tell': 395, 'authentic': 396, 'disappointment': 397, 'cable': 398, 'care': 399, 'ago': 400, 'having': 401, 'crap': 402, 'especially': 403, 'rather': 404, 'difficult': 405, 'cannot': 406, 'zero': 407, 'samsung': 408, 'extra': 409, 'soon': 410, 'inside': 411, 'prices': 412, 'cooked': 413, 'wonderful': 414, 'sauce': 415, 'dish': 416, 'buffet': 417, 'eating': 418, 'dining': 419, 'atmosphere': 420, 'clean': 421, 'line': 422, 'decent': 423, 'razr': 424, 'started': 425, 'yet': 426, 'charging': 427, 'mobile': 428, 'hold': 429, 'least': 430, 'seems': 431, 'should': 432, 'actually': 433, 'sturdy': 434, 'large': 435, 'front': 436, 'beautiful': 437, 'bargain': 438, 'super': 439, 'shipping': 440, 'between': 441, 'pictures': 442, 'wife': 443, 'strong': 444, 'done': 445, 'set': 446, 'weeks': 447, 'during': 448, 'charm': 449, 'hit': 450, 'thought': 451, 'reasonably': 452, 'range': 453, 'bit': 454, 'mistake': 455, 'important': 456, 'feature': 457, 'buying': 458, 'lacking': 459, 'anything': 460, 'belt': 461, 'data': 462, 'sides': 463, 'others': 464, 'trying': 465, 'today': 466, 'satisfied': 467, 'keep': 468, 'plastic': 469, 'oh': 470, 'clarity': 471, '20': 472, 'unfortunately': 473, 'given': 474, 'star': 475, 'replace': 476, 'quick': 477, 'plus': 478, 'cases': 479, 'pay': 480, 'connection': 481, 'told': 482, 'hour': 483, '4': 484, 'management': 485, 'easily': 486, 'see': 487, 'wow': 488, 'pho': 489, 'fries': 490, 'beer': 491, 'waiter': 492, 'table': 493, 'tender': 494, 'server': 495, 'potato': 496, 'lunch': 497, 'chicken': 498, 'town': 499, 'spicy': 500, 'served': 501, 'eaten': 502, 'spot': 503, 'ambiance': 504, 'mic': 505, 'sending': 506, 'clip': 507, 'blue': 508, 'instructions': 509, 'provided': 510, 'included': 511, 'recommended': 512, 'performance': 513, 'keyboard': 514, 'instead': 515, 'reasonable': 516, 'support': 517, 'perhaps': 518, 'party': 519, 'player': 520, 'person': 521, 'station': 522, 'purchased': 523, 'holds': 524, 'music': 525, 'dont': 526, 'decision': 527, 'white': 528, 'although': 529, 'such': 530, 'ask': 531, 'leather': 532, 'comfortably': 533, 'basically': 534, 'almost': 535, 'stuff': 536, 'house': 537, 'literally': 538, 'goes': 539, 'tool': 540, 'obviously': 541, 'once': 542, 'simply': 543, 'lasts': 544, 'able': 545, 'lightweight': 546, 'earpiece': 547, 'unreliable': 548, 'gave': 549, 'seller': 550, 'plantronics': 551, 'charged': 552, 'weak': 553, 'lg': 554, 'cant': 555, 'easier': 556, 'hot': 557, 'face': 558, 'happier': 559, 'finally': 560, 'wanted': 561, 'waiting': 562, 'comes': 563, 'might': 564, 'expensive': 565, 'under': 566, 'liked': 567, 'palm': 568, 'store': 569, 'touch': 570, 'above': 571, 'own': 572, 'cingular': 573, 't': 574, 'enjoy': 575, 'please': 576, 'ringtones': 577, 'stop': 578, 'needed': 579, 'treo': 580, 'usb': 581, 'point': 582, 'red': 583, 'reviews': 584, 'awful': 585, 'something': 586, 'bar': 587, 'third': 588, 'wall': 589, 'hand': 590, 'break': 591, 'perfect': 592, 'until': 593, 'totally': 594, 'fact': 595, 'places': 596, 'tables': 597, 'shrimp': 598, 'servers': 599, 'pasta': 600, 'wait': 601, 'meat': 602, 'dishes': 603, 'thai': 604, 'steaks': 605, 'rude': 606, 'bacon': 607, 'wings': 608, 'folks': 609, 'special': 610, '0': 611, 'location': 612, 'jawbone': 613, 'conversations': 614, 'contacts': 615, 'fun': 616, 'static': 617, 'website': 618, 'pair': 619, 'below': 620, \"that's\": 621, 'pocket': 622, 'pc': 623, '7': 624, 'worthless': 625, 'thats': 626, 'features': 627, 'mind': 628, 'returned': 629, 'protection': 630, 'seconds': 631, '510': 632, 'complaints': 633, 'particular': 634, \"phone's\": 635, 'cover': 636, 'let': 637, 'trouble': 638, 'choice': 639, 'longer': 640, 'packaged': 641, 'loves': 642, 'construction': 643, 'boy': 644, 'ease': 645, 'play': 646, 'plan': 647, 'match': 648, 'fall': 649, 'display': 650, 'rocks': 651, 'number': 652, 'setup': 653, 'earpieces': 654, 'bt': 655, 'earbud': 656, 'failed': 657, 'coverage': 658, 'experienced': 659, 'drops': 660, 'forever': 661, 'description': 662, 'hoping': 663, \"wouldn't\": 664, 'sharp': 665, 'wasting': 666, 'chargers': 667, 'options': 668, 'needs': 669, 'handsfree': 670, 'network': 671, 'lost': 672, 'replacement': 673, 'thin': 674, 'nearly': 675, 'form': 676, 'anyway': 677, 'room': 678, \"there's\": 679, 'certainly': 680, 'mess': 681, 'hair': 682, 'sony': 683, 'favorite': 684, 'market': 685, 'comfort': 686, 'whatsoever': 687, '8': 688, 'drain': 689, 'whole': 690, 'poorly': 691, 'scratched': 692, 'someone': 693, 'microphone': 694, 'uncomfortable': 695, 'plugged': 696, 'driving': 697, 'immediately': 698, 'flip': 699, 'inexpensive': 700, 'wireless': 701, 'outside': 702, 'exactly': 703, \"you'd\": 704, 'stupid': 705, 'dead': 706, 'breaks': 707, 'note': 708, 'alone': 709, 'q': 710, 'size': 711, 'turned': 712, 'wearing': 713, 'sunglasses': 714, 'computer': 715, 'results': 716, 'im': 717, 'noise': 718, 'holster': 719, 'review': 720, 'ended': 721, 'refund': 722, 'drop': 723, 'sucked': 724, 'total': 725, 'friends': 726, \"isn't\": 727, 'joke': 728, 'walked': 729, 'through': 730, 'speaker': 731, 'sprint': 732, 'stopped': 733, 'guess': 734, 'tinny': 735, 'spring': 736, 'pairing': 737, 'ripped': 738, 'beat': 739, 'iphone': 740, 'despite': 741, 'power': 742, 'outlet': 743, 'etc': 744, 'elsewhere': 745, 'mediocre': 746, 'passed': 747, '100': 748, 'cut': 749, 'date': 750, 'bottom': 751, 'else': 752, 'boot': 753, 'thumbs': 754, 'checked': 755, 'send': 756, 'says': 757, 'top': 758, 'making': 759, 'beep': 760, 'word': 761, 'seen': 762, 'damn': 763, 'warm': 764, 'running': 765, 'salmon': 766, 'portions': 767, 'establishment': 768, 'sick': 769, 'attentive': 770, 'dessert': 771, 'sandwich': 772, 'greek': 773, 'dressing': 774, 'husband': 775, 'heart': 776, 'seafood': 777, 'tasteless': 778, 'second': 779, 'fish': 780, 'drinks': 781, 'rice': 782, '30': 783, 'sweet': 784, 'rolls': 785, \"you're\": 786, 'cafe': 787, 'meal': 788, 'trip': 789, 'leave': 790, 'pork': 791, 'delish': 792, 'cream': 793, 'empty': 794, 'itself': 795, 'considering': 796, 'seated': 797, 'phoenix': 798, 'treated': 799, 'sat': 800, 'ice': 801, 'interesting': 802, 'bread': 803, 'business': 804, 'cold': 805, 'possible': 806, 'outstanding': 807, 'pizzas': 808, 'enjoyed': 809, 'lasting': 810, '45': 811, 'wasted': 812, 'extended': 813, 'notice': 814, 'tooth': 815, 'advise': 816, 'fire': 817, 'run': 818, 'combination': 819, 'owned': 820, 'pull': 821, 'unusable': 822, 'book': 823, 'short': 824, 'regarding': 825, 'turns': 826, 'pda': 827, 'world': 828, '15': 829, 'essentially': 830, 'forget': 831, 'tech': 832, 'clearly': 833, 'mp3': 834, 'lock': 835, 'died': 836, 'glasses': 837, 'sometimes': 838, 'series': 839, 'quiet': 840, 'saying': 841, 'docking': 842, 'd807': 843, 'advertised': 844, 'handy': 845, '6': 846, 'cheaper': 847, 'costs': 848, 'buyer': 849, 'beware': 850, 'apparently': 851, 'pros': 852, 'flaw': 853, 'rated': 854, 'impressive': 855, 'expectations': 856, 'resolution': 857, 'slim': 858, 'sex': 859, 'toast': 860, 'sleek': 861, 'keypad': 862, 'unhappy': 863, 'winner': 864, 'careful': 865, 'logitech': 866, 'recognition': 867, 'tremendous': 868, 'takes': 869, 'stated': 870, 'blackberry': 871, 'sounds': 872, 'funny': 873, 'technology': 874, 'wired': 875, 'previous': 876, 's': 877, 'w810i': 878, 'superb': 879, 'maintain': 880, \"shouldn't\": 881, 'graphics': 882, 'button': 883, 'thank': 884, 'igo': 885, 'tips': 886, 'connected': 887, \"wife's\": 888, 'whether': 889, 'storage': 890, 'buzzing': 891, 'override': 892, 'functionality': 893, 'recently': 894, 'bucks': 895, 'ring': 896, 'dropping': 897, 'incredibly': 898, 'strange': 899, 'bother': 900, 'living': 901, 'issues': 902, 'embarrassing': 903, 'consumer': 904, 'background': 905, 'usually': 906, 'excited': 907, 'cute': 908, 'additional': 909, 'gels': 910, 'purpose': 911, 'secure': 912, 'appears': 913, 'rubber': 914, 'smell': 915, 'caused': 916, 'flimsy': 917, 'month': 918, 'flawlessly': 919, 'fry': 920, 'adorable': 921, 'strip': 922, 'wise': 923, 'gotten': 924, 'dialing': 925, 'neither': 926, 'games': 927, 'ipod': 928, 'recharge': 929, 'save': 930, 'along': 931, 'starts': 932, 'ringing': 933, 'reason': 934, 'auto': 935, 'push': 936, 'skype': 937, 'self': 938, 'help': 939, 'shipped': 940, 'prompt': 941, 'noticed': 942, 'att': 943, 'mention': 944, 'effect': 945, 'model': 946, 'warning': 947, 'wish': 948, 'dying': 949, 'install': 950, 'purchasing': 951, 'moto': 952, 'figure': 953, 'reading': 954, 'memory': 955, 'solid': 956, 'returning': 957, 'changing': 958, 'update': 959, 'cumbersome': 960, 'delivery': 961, 'switch': 962, 'worthwhile': 963, 'understand': 964, 'pricing': 965, 'batteries': 966, 'user': 967, 'ability': 968, 'receiving': 969, 'exchanged': 970, 'cellphone': 971, 'described': 972, 'nyc': 973, 'defective': 974, 'unacceptable': 975, 'catching': 976, 'amazed': 977, 'timeframe': 978, 'complaint': 979, 'standard': 980, 'accidentally': 981, 'listening': 982, 'kitchen': 983, 'conversation': 984, 'ample': 985, 'eargels': 986, 'seem': 987, 'missed': 988, 'numerous': 989, 'barely': 990, 'due': 991, 'forced': 992, 'menus': 993, 'holding': 994, 'broken': 995, 'effort': 996, 'course': 997, 'breaking': 998, '50': 999, 'operate': 1000, 'paired': 1001, 'pack': 1002, 'believe': 1003, 'apart': 1004, 'brand': 1005, 'performed': 1006, 'echo': 1007, 'wind': 1008, 'warranty': 1009, 'placed': 1010, 'falling': 1011, 'tiny': 1012, 'tries': 1013, 'download': 1014, 'happened': 1015, 'access': 1016, 'continue': 1017, 'flash': 1018, 'truly': 1019, 'tones': 1020, 'prime': 1021, 'chinese': 1022, 'crisp': 1023, 'video': 1024, 'accept': 1025, 'allows': 1026, 'multiple': 1027, 'signs': 1028, 'sizes': 1029, 'classy': 1030, 'metro': 1031, 'cost': 1032, 'convenient': 1033, 'son': 1034, 'protector': 1035, '12': 1036, 'discount': 1037, 'double': 1038, 'disgusting': 1039, 'rare': 1040, 'five': 1041, 'lots': 1042, 'sounded': 1043, 'together': 1044, 'feet': 1045, 'everywhere': 1046, 'ordering': 1047, 'awkward': 1048, 'current': 1049, 'dirty': 1050, 'answer': 1051, \"haven't\": 1052, 'laptop': 1053, 'normal': 1054, 'fails': 1055, 'lose': 1056, 'exceptional': 1057, 'setting': 1058, 'show': 1059, 'ok': 1060, 'managed': 1061, 'seat': 1062, 'lightly': 1063, 'rating': 1064, 'rest': 1065, 'joy': 1066, 'covered': 1067, 'disappoint': 1068, 'crust': 1069, 'texture': 1070, 'nasty': 1071, 'late': 1072, 'recommendation': 1073, 'potatoes': 1074, 'overpriced': 1075, 'asked': 1076, 'mexican': 1077, 'tacos': 1078, 'overwhelmed': 1079, 'familiar': 1080, 'visit': 1081, 'grossed': 1082, 'beef': 1083, 'duck': 1084, 'char': 1085, 'realized': 1086, 'his': 1087, 'towards': 1088, 'customers': 1089, 'portion': 1090, 'attack': 1091, 'excuse': 1092, 'scallop': 1093, 'water': 1094, 'appetizers': 1095, 'heard': 1096, 'salt': 1097, 'batter': 1098, 'chewy': 1099, 'min': 1100, 'known': 1101, 'opportunity': 1102, 'die': 1103, 'mouth': 1104, 'bye': 1105, \"we'll\": 1106, 'serves': 1107, 'marrow': 1108, 'wine': 1109, 'bartender': 1110, 'lovers': 1111, 'busy': 1112, 'gross': 1113, 'preparing': 1114, 'belly': 1115, 'melt': 1116, 'burgers': 1117, 'cheese': 1118, 'subway': 1119, 'restaurants': 1120, 'dine': 1121, 'drink': 1122, 'rarely': 1123, 'curry': 1124, 'bathrooms': 1125, 'decorated': 1126, 'bay': 1127, 'stale': 1128, 'bakery': 1129, 'sad': 1130, 'ladies': 1131, 'decided': 1132, 'looked': 1133, 'healthy': 1134, 'butter': 1135, 'chips': 1136, 'watch': 1137, 'egg': 1138, 'dog': 1139, 'bowl': 1140, 'live': 1141, 'insulted': 1142, 'drive': 1143, 'hope': 1144, 'brunch': 1145, 'stepped': 1146, 'gold': 1147, 'bug': 1148, \"we're\": 1149, 'her': 1150, 'shower': 1151, 'lobster': 1152, 'bisque': 1153, 'yum': 1154, 'stayed': 1155, 'flavorful': 1156, 'dark': 1157, 'par': 1158, 'creamy': 1159, 'generous': 1160, 'coffee': 1161, 'tea': 1162, 'patio': 1163, 'bachi': 1164, \"friend's\": 1165, 'why': 1166, 'pulled': 1167, 'stir': 1168, 'fried': 1169, 'doubt': 1170, 'mom': 1171, 'pleasant': 1172, 'omg': 1173, 'ten': 1174, 'pancakes': 1175, 'eggs': 1176, 'tasted': 1177, 'deserves': 1178, 'green': 1179, 'stuffed': 1180, 'kids': 1181, 'assure': 1182, 'regular': 1183, 'dinner': 1184, '40': 1185, 'anytime': 1186, 'driest': 1187, 'manager': 1188, 'acknowledged': 1189, 'group': 1190, 'crab': 1191, 'legs': 1192, 'bunch': 1193, 'homemade': 1194, 'desserts': 1195, 'recent': 1196, 'converter': 1197, 'tied': 1198, 'major': 1199, 'jiggle': 1200, 'dozen': 1201, 'hundred': 1202, 'imagine': 1203, 'owner': 1204, 'needless': 1205, 'seperated': 1206, 'mere': 1207, 'ft': 1208, 'excessive': 1209, 'garbled': 1210, 'odd': 1211, 'fooled': 1212, 'clicks': 1213, 'wonder': 1214, 'mechanism': 1215, \"motorola's\": 1216, 'followed': 1217, 'directions': 1218, 'kindle': 1219, 'commercials': 1220, 'misleading': 1221, 'mother': 1222, 'couldnt': 1223, 'earphone': 1224, 'breakage': 1225, 'unacceptible': 1226, 'ideal': 1227, 'whose': 1228, 'sensitive': 1229, 'moving': 1230, 'freeway': 1231, 'speed': 1232, 'contract': 1233, 'ac': 1234, 'juice': 1235, 'highy': 1236, 'mins': 1237, '680': 1238, '2mp': 1239, 'pics': 1240, 'garbage': 1241, 'gonna': 1242, 'arguing': 1243, 'bulky': 1244, 'usable': 1245, 'useful': 1246, 'machine': 1247, 'neat': 1248, 'gadget': 1249, 'e': 1250, 'stream': 1251, 'submerged': 1252, \"microsoft's\": 1253, 'faceplates': 1254, 'elegant': 1255, 'angle': 1256, 'drawback': 1257, 'pause': 1258, 'skip': 1259, 'songs': 1260, 'activated': 1261, 'suddenly': 1262, 'ipods': 1263, 'situations': 1264, 'bmw': 1265, 'fairly': 1266, 'hearing': 1267, 'wrongly': 1268, 'everyday': 1269, 'intended': 1270, 'runs': 1271, 'loads': 1272, 'greater': 1273, 'buds': 1274, 'waaay': 1275, 'bluetooths': 1276, 'listener': 1277, 'integrated': 1278, 'seamlessly': 1279, 'flush': 1280, 'toilet': 1281, 'supposedly': 1282, '375': 1283, 'styles': 1284, 'correctly': 1285, '350': 1286, 'jabra350': 1287, 'megapixels': 1288, 'renders': 1289, 'images': 1290, 'relatively': 1291, 'purcashed': 1292, 'geeky': 1293, 'oozes': 1294, 'embedded': 1295, 'stylish': 1296, 'compromise': 1297, 'qwerty': 1298, 'basic': 1299, 'simpler': 1300, 'iam': 1301, 'disapoinment': 1302, 'realize': 1303, 'accompanied': 1304, 'brilliant': 1305, 'nicely': 1306, 'damage': 1307, 'definitly': 1308, 'majority': 1309, 'peachy': 1310, 'keen': 1311, 'upstairs': 1312, 'basement': 1313, 'minute': 1314, 'reccomendation': 1315, 'relative': 1316, 'items': 1317, 'sudden': 1318, 'linking': 1319, '8530': 1320, 'curve': 1321, 'seemed': 1322, 'sketchy': 1323, 'messages': 1324, 'web': 1325, 'browsing': 1326, 'significantly': 1327, 'faster': 1328, 'build': 1329, 'unlike': 1330, 'colors': 1331, 'whine': 1332, 'communications': 1333, 'communicate': 1334, 'monkeys': 1335, 'share': 1336, 'dna': 1337, 'copy': 1338, 'humans': 1339, 'bougth': 1340, 'l7c': 1341, 'mode': 1342, 'file': 1343, 'browser': 1344, 'offers': 1345, 'hs850': 1346, 'latest': 1347, 'os': 1348, 'v1': 1349, '15g': 1350, 'likes': 1351, 'crawl': 1352, 'recognizes': 1353, 'bluetoooth': 1354, 'thorn': 1355, 'abhor': 1356, 'disconnected': 1357, '13': 1358, 'mail': 1359, 'backlight': 1360, 'message': 1361, 'tone': 1362, 'lately': 1363, 'wit': 1364, 'weight': 1365, 'hardly': 1366, \"you'll\": 1367, 'pleather': 1368, 'deaf': 1369, 'prettier': 1370, 'investment': 1371, 'ticking': 1372, 'noises': 1373, 'ends': 1374, 'electronics': 1375, 'available': 1376, 'fm': 1377, 'transmitters': 1378, 'h500': 1379, 'mega': 1380, 'pixel': 1381, 'good7': 1382, 'transmit': 1383, 'contacting': 1384, 'dollar': 1385, 'learned': 1386, 'lesson': 1387, 'online': 1388, 'earbugs': 1389, 'means': 1390, 'roam': 1391, 'crack': 1392, 'infatuated': 1393, 'freezes': 1394, 'frequently4': 1395, 'mostly': 1396, 'child': 1397, 'tick': 1398, 'headbands': 1399, 'ericsson': 1400, 'purchases': 1401, 'shine': 1402, 'calendar': 1403, 'sync': 1404, 'defeats': 1405, 'penny': 1406, 'wallet': 1407, 'type': 1408, 'excrutiatingly': 1409, 'aspect': 1410, 'glove': 1411, 'durable': 1412, 'o': 1413, 'gosh': 1414, 'attractive': 1415, 'factor': 1416, 'petroleum': 1417, 'unbearable': 1418, 'scary': 1419, 'stereo': 1420, 'absolutel': 1421, 'potentially': 1422, 'giving': 1423, 'reversible': 1424, 'rotating': 1425, 'contstruct': 1426, 'hinge': 1427, 'installed': 1428, 'overnite': 1429, 'thru': 1430, 'handset': 1431, 'cat': 1432, 'attacked': 1433, 'protective': 1434, 'destroying': 1435, 'razor': 1436, 'v3i': 1437, 'shouldve': 1438, 'invented': 1439, 'sooner': 1440, 'engineered': 1441, 'clever': 1442, 'complained': 1443, \"headset's\": 1444, '2160': 1445, 'tracfone': 1446, 'instruction': 1447, 'manual': 1448, 'alarm': 1449, 'clock': 1450, 'removing': 1451, 'antena': 1452, 'compared': 1453, 'compliments': 1454, 'state': 1455, 'allow': 1456, 'usage': 1457, 'ngage': 1458, 'earbuds': 1459, 'riingtones': 1460, 'rip': 1461, 'frequentyly': 1462, 'adhesive': 1463, 'practically': 1464, 'add': 1465, 'boost': 1466, 'concrete': 1467, 'knock': 1468, 'wood': 1469, 'transformed': 1470, 'organizational': 1471, 'capability': 1472, 'sitting': 1473, 'vehicle': 1474, 'cradle': 1475, 'jerks': 1476, 'los': 1477, 'angeles': 1478, 'starter': 1479, 'loudspeaker': 1480, 'option': 1481, 'bumpers': 1482, 'lights': 1483, 'appealing': 1484, 'improve': 1485, 'leaks': 1486, 'according': 1487, 'called': 1488, 'applifies': 1489, 'specially': 1490, 'transmission': 1491, 's11': 1492, 'finished': 1493, 'drivng': 1494, 'reverse': 1495, 'tape': 1496, 'embarassing': 1497, 'hurt': 1498, 'protects': 1499, 'average': 1500, 'operates': 1501, 'soyo': 1502, 'portraits': 1503, 'exterior': 1504, 'mentioned': 1505, 'gadgets': 1506, 'magical': 1507, 'promptly': 1508, 'comparably': 1509, 'offering': 1510, 'encourage': 1511, 'effective': 1512, 'recieve': 1513, 'cradles': 1514, 'kits': 1515, 'excelent': 1516, 'cingulair': 1517, 'nicer': 1518, 'era': 1519, 'colored': 1520, 'hoursthe': 1521, 'thereplacement': 1522, '2000': 1523, 'cheaply': 1524, 'distorted': 1525, 'yell': 1526, 'forgot': 1527, 'weird': 1528, 'iriver': 1529, 'spinn': 1530, 'fond': 1531, 'magnetic': 1532, 'strap': 1533, 'psyched': 1534, 'appointments': 1535, 'appearance': 1536, 'sanyo': 1537, 'survived': 1538, 'dozens': 1539, 'blacktop': 1540, 'ill': 1541, 'earphones': 1542, 'finds': 1543, 'enter': 1544, 'modest': 1545, 'cellular': 1546, 'awsome': 1547, 'drained': 1548, 'earpad': 1549, 'displeased': 1550, 'defect': 1551, 'risk': 1552, 'built': 1553, 'restored': 1554, 'jx': 1555, 'searched': 1556, 'key': 1557, 'pad': 1558, 'lit': 1559, 'portable': 1560, 'colleague': 1561, 'fully': 1562, 'bed': 1563, 'wi': 1564, 'fi': 1565, 'morning': 1566, 'card': 1567, 'hat': 1568, 'timely': 1569, 'shipment': 1570, 'surefire': 1571, 'gx2': 1572, 'bt50': 1573, 'buyers': 1574, 'remorse': 1575, 'accessoryone': 1576, 'inexcusable': 1577, 'carriers': 1578, 'tmobile': 1579, 'procedure': 1580, 'motorolas': 1581, 'vx9900': 1582, 'env': 1583, 'rocketed': 1584, 'destination': 1585, 'unknown': 1586, 'conditions': 1587, 'usefulness': 1588, \"verizon's\": 1589, 'bills': 1590, 'plans': 1591, 'overnight': 1592, 'regret': 1593, 'pitiful': 1594, 'respect': 1595, 'stuck': 1596, 'max': 1597, 'mute': 1598, 'hybrid': 1599, 'palmtop': 1600, 'excels': 1601, 'roles': 1602, 'bt250v': 1603, '11': 1604, 'bose': 1605, 'cancelling': 1606, 'commuter': 1607, 'photo': 1608, 'ad': 1609, 'earlier': 1610, 'noted': 1611, 'happens': 1612, 'frog': 1613, 'eye': 1614, 'pushed': 1615, 'function': 1616, 'aluminum': 1617, 'vx': 1618, 'protected': 1619, 'handheld': 1620, 'tools': 1621, 'sturdiness': 1622, 'orders': 1623, 'source': 1624, 'waterproof': 1625, 'thanks': 1626, 'sliding': 1627, 'edge': 1628, 'pants': 1629, 'pockets': 1630, 'ugly': 1631, 'shield': 1632, 'incrediable': 1633, 'improvement': 1634, 'refuse': 1635, 'activate': 1636, 'gentle': 1637, 'threw': 1638, 'window': 1639, 'inches': 1640, 'counter': 1641, 'cracked': 1642, 'laughing': 1643, 'trunk': 1644, 'carried': 1645, 'hitch': 1646, 'practical': 1647, 'channel': 1648, 'directly': 1649, 'increase': 1650, 'ones': 1651, 'properly': 1652, 'shifting': 1653, 'bubbling': 1654, 'peeling': 1655, 'scratch': 1656, 'droid': 1657, 'exercise': 1658, 'frustration': 1659, 'earset': 1660, 'outgoing': 1661, 'package': 1662, 'understanding': 1663, 'patient': 1664, 'wirefly': 1665, 'contact': 1666, 'inform': 1667, 'practice': 1668, 'aggravating': 1669, 'virgin': 1670, 'muddy': 1671, 'casing': 1672, \"wire's\": 1673, 'insert': 1674, 'glued': 1675, 'slid': 1676, 'plantronincs': 1677, 'continues': 1678, 'flawed': 1679, 'disapointing': 1680, 'fourth': 1681, 'hated': 1682, 'fixes': 1683, 'accessing': 1684, 'downloading': 1685, 'performing': 1686, 'functions': 1687, 'constantly': 1688, 'happening': 1689, 'adapters': 1690, 'procedures': 1691, 're': 1692, 'wiping': 1693, 'strength': 1694, 'plays': 1695, 'louder': 1696, 'constructed': 1697, 'navigate': 1698, 'recessed': 1699, 'avoiding': 1700, 'smoking': 1701, 'linked': 1702, 'possesed': 1703, 'idea': 1704, 'trash': 1705, 'research': 1706, 'development': 1707, 'division': 1708, 'knows': 1709, \"they're\": 1710, 'doing': 1711, 'killer': 1712, 'infuriating': 1713, 'walkman': 1714, 'charges': 1715, 'europe': 1716, 'asia': 1717, 'clipping': 1718, 'deffinitely': 1719, \"cent's\": 1720, 'behing': 1721, '5020': 1722, 'comfortible': 1723, '24': 1724, 'pain': 1725, 'arrival': 1726, 'fraction': 1727, 'crappy': 1728, 'e715': 1729, 'seeen': 1730, 'interface': 1731, 'decade': 1732, 'compete': 1733, 'designs': 1734, '700w': 1735, 'transceiver': 1736, 'steer': 1737, 'genuine': 1738, 'replacementr': 1739, 'pens': 1740, 'buyit': 1741, 'beats': 1742, 'fingers': 1743, 'steep': 1744, 'normally': 1745, 'haul': 1746, 'dissapointing': 1747, 'originally': 1748, 'discarded': 1749, 'players': 1750, 'posted': 1751, 'detailed': 1752, 'comments': 1753, 'grey': 1754, 'existing': 1755, 'cds': 1756, 'surprised': 1757, 'fabulous': 1758, 'currently': 1759, 'shooters': 1760, 'delay': 1761, 'messes': 1762, 'bitpim': 1763, 'program': 1764, 'transfer': 1765, 'accessory': 1766, 'manufacturer': 1767, 'muffled': 1768, 'incoming': 1769, 'severe': 1770, 'resistant': 1771, 'overly': 1772, 'contacted': 1773, 'produce': 1774, 'receipt': 1775, 'luck': 1776, 'linksys': 1777, 'exchange': 1778, 'refurb': 1779, 'snug': 1780, 'heavy': 1781, 'keeps': 1782, 'utter': 1783, 'promised': 1784, 'loop': 1785, 'four': 1786, 'latch': 1787, 'visor': 1788, 'address': 1789, 'reboots': 1790, 'rate': 1791, 'tungsten': 1792, 'e2': 1793, 'flipphones': 1794, 'designed': 1795, 'smoothly': 1796, 'study': 1797, 'interested': 1798, 'sins': 1799, 'industrial': 1800, 'tracking': 1801, 'detachable': 1802, 'periodically': 1803, 'somehow': 1804, 'upload': 1805, 'locks': 1806, 'screens': 1807, 'randomly': 1808, 'locked': 1809, '325': 1810, 'worn': 1811, 'ringer': 1812, 'choices': 1813, 'acceptable': 1814, 'balance': 1815, 'ready': 1816, 'upbeat': 1817, 'forgeries': 1818, 'abound': 1819, 'explain': 1820, 'jack': 1821, 'ca': 1822, '42': 1823, 'smallest': 1824, 'stays': 1825, 'biggest': 1826, 'drains': 1827, 'superfast': 1828, 'ergonomic': 1829, 'theory': 1830, 'stand': 1831, 'clips': 1832, 'occupied': 1833, 'distracting': 1834, 'entire': 1835, 'except': 1836, 'cbr': 1837, 'mp3s': 1838, 'preferably': 1839, 'windows': 1840, 'media': 1841, 'shots': 1842, 'sos': 1843, 'signals': 1844, 'connect': 1845, 'mini': 1846, 'near': 1847, 'open': 1848, 'allowing': 1849, 'startac': 1850, 'regretted': 1851, 'outperform': 1852, 'china': 1853, 'v325i': 1854, 'numbers': 1855, 'sim': 1856, '3o': 1857, 'r': 1858, 'crashed': 1859, 'replaced': 1860, 'quit': 1861, '18': 1862, '4s': 1863, 'connecting': 1864, 'sources': 1865, 'imac': 1866, 'external': 1867, 'bells': 1868, 'whistles': 1869, 'via': 1870, 'slide': 1871, 'grip': 1872, 'prevents': 1873, 'slipping': 1874, 'span': 1875, 'exclaim': 1876, 'whoa': 1877, 'tv': 1878, 'corded': 1879, 'freedom': 1880, 'mark': 1881, 'shows': 1882, 'functional': 1883, 'soft': 1884, 'tight': 1885, 'shape': 1886, 'copier': 1887, 'sent': 1888, 'anywhere': 1889, 'sold': 1890, 'units': 1891, 'provides': 1892, 'krussel': 1893, 'tracfonewebsite': 1894, 'toactivate': 1895, 'texas': 1896, 'dit': 1897, '5320': 1898, 'mainly': 1899, 'whatever': 1900, 'blueant': 1901, 'supertooth': 1902, 'pcs': 1903, 'sch': 1904, 'r450': 1905, 'slider': 1906, 'premium': 1907, 'plugs': 1908, 'plenty': 1909, 'capacity': 1910, 'confortable': 1911, 'somewhat': 1912, 'periods': 1913, 'ant': 1914, 'hey': 1915, 'pleasantly': 1916, 'suprised': 1917, 'dustpan': 1918, 'indoors': 1919, 'disposable': 1920, 'puff': 1921, 'smoke': 1922, 'ride': 1923, 'smoother': 1924, 'nano': 1925, 'dissapointed': 1926, 'reccommend': 1927, 'carries': 1928, 'highest': 1929, 'anti': 1930, 'glare': 1931, 'smartphone': 1932, 'wont': 1933, 'atleast': 1934, 'addition': 1935, 'amp': 1936, 'reoccure': 1937, 'somewhere': 1938, 'creaks': 1939, 'wooden': 1940, 'floor': 1941, 'apartment': 1942, 'generally': 1943, 'inconspicuous': 1944, 'slowly': 1945, 'sorry': 1946, 'impossible': 1947, 'refused': 1948, 'upgrade': 1949, 'securly': 1950, 'possibility': 1951, 'booking': 1952, 'entertainment': 1953, 'communication': 1954, 'activesync': 1955, 'optimal': 1956, 'synchronization': 1957, 'coupon': 1958, 'instance': 1959, 'ps3': 1960, 'cheapy': 1961, 'talking': 1962, 'shouting': 1963, 'telephone': 1964, 'yes': 1965, 'shiny': 1966, 'grtting': 1967, '44': 1968, 'v3c': 1969, 'exceeds': 1970, 'sight': 1971, 'improper': 1972, 'effects': 1973, 'palms': 1974, 'hoped': 1975, 'father': 1976, 'v265': 1977, 'pads': 1978, 'stops': 1979, 'intermittently': 1980, 'reaching': 1981, 'row': 1982, 'keys': 1983, 'nightmare': 1984, 'describe': 1985, 'speakerphone': 1986, 'cassette': 1987, 'cellphones': 1988, 'planning': 1989, 'read': 1990, \"other's\": 1991, 'products': 1992, 'sensor': 1993, 'reliability': 1994, 'beeping': 1995, 'letting': 1996, 'dieing': 1997, 'ir': 1998, 'cancellation': 1999, 'counterfeit': 2000, 'travled': 2001, 'swivel': 2002, 'sister': 2003, 'dual': 2004, '8125': 2005, 'keeping': 2006, 'bottowm': 2007, 'gimmick': 2008, 'opens': 2009, 'causing': 2010, 'discomfort': 2011, 'trust': 2012, 'maintains': 2013, 'flawless': 2014, 'devices': 2015, 'utterly': 2016, 'confusing': 2017, 'holder': 2018, 'cutouts': 2019, 'land': 2020, 'loops': 2021, 'material': 2022, 'flaws': 2023, 'owning': 2024, 'official': 2025, 'oem': 2026, 'loudest': 2027, 'competitors': 2028, 'saved': 2029, 'alot': 2030, 'cuts': 2031, 'unintelligible': 2032, 'restart': 2033, 'bend': 2034, 'leaf': 2035, 'metal': 2036, 'stress': 2037, 'leopard': 2038, 'print': 2039, 'wonderfully': 2040, 'wild': 2041, 'saggy': 2042, 'floppy': 2043, 'looses': 2044, 'snap': 2045, '8525': 2046, 'carry': 2047, 'fliptop': 2048, 'loose': 2049, 'wobbly': 2050, 'eventually': 2051, 'receive': 2052, 'fulfills': 2053, 'requirements': 2054, 'rests': 2055, 'against': 2056, 'websites': 2057, 'cables': 2058, 'lap': 2059, 'controls': 2060, 'accessable': 2061, 'mine': 2062, 'christmas': 2063, 'otherwise': 2064, 'satisifed': 2065, '2005': 2066, 's710a': 2067, 'specs': 2068, 'armband': 2069, 'allot': 2070, 'clearer': 2071, 'keypads': 2072, 'reach': 2073, 'ericson': 2074, 'z500a': 2075, 'motor': 2076, 'control': 2077, 'center': 2078, 'voltage': 2079, 'humming': 2080, 'equipment': 2081, 'certain': 2082, 'girl': 2083, 'complain': 2084, 'wake': 2085, 'styling': 2086, 'restocking': 2087, 'fee': 2088, 'darn': 2089, 'lousy': 2090, 'sweetest': 2091, 'securely': 2092, 'hook': 2093, 'directed': 2094, 'canal': 2095, 'unsatisfactory': 2096, 'videos': 2097, 'negatively': 2098, 'adapter': 2099, 'provide': 2100, 'hype': 2101, 'assumed': 2102, 'lense': 2103, 'falls': 2104, 'text': 2105, 'messaging': 2106, 'tricky': 2107, 'painful': 2108, 'lasted': 2109, 'blew': 2110, 'flops': 2111, 'smudged': 2112, 'touches': 2113, 'infra': 2114, 'port': 2115, 'irda': 2116, 'bank': 2117, 'holiday': 2118, 'rick': 2119, 'steve': 2120, 'angry': 2121, 'honeslty': 2122, 'ahead': 2123, 'warmer': 2124, 'cashier': 2125, 'wayyy': 2126, 'cape': 2127, 'cod': 2128, 'ravoli': 2129, 'chickenwith': 2130, 'cranberry': 2131, 'mmmm': 2132, 'disgusted': 2133, 'human': 2134, 'shocked': 2135, 'indicate': 2136, 'cash': 2137, 'burrittos': 2138, 'blah': 2139, 'interior': 2140, 'velvet': 2141, 'cake': 2142, 'ohhh': 2143, 'brought': 2144, 'hole': 2145, 'street': 2146, 'luke': 2147, 'sever': 2148, 'sashimi': 2149, 'combos': 2150, '23': 2151, 'final': 2152, 'blow': 2153, 'accident': 2154, 'grab': 2155, 'bite': 2156, 'pub': 2157, 'yourself': 2158, 'favor': 2159, 'redeeming': 2160, 'hiro': 2161, 'delight': 2162, 'moist': 2163, 'drag': 2164, 'judge': 2165, 'melted': 2166, 'styrofoam': 2167, 'fear': 2168, 'positive': 2169, 'frozen': 2170, 'pucks': 2171, 'disgust': 2172, 'behind': 2173, 'register': 2174, 'rib': 2175, 'section': 2176, 'generic': 2177, 'firehouse': 2178, 'pita': 2179, 'hummus': 2180, 'refreshing': 2181, 'pink': 2182, 'chow': 2183, 'mein': 2184, 'attitudes': 2185, 'imaginative': 2186, 'grill': 2187, 'downtown': 2188, 'flat': 2189, 'lined': 2190, 'strings': 2191, 'amount': 2192, 'banana': 2193, 'petrified': 2194, 'refill': 2195, 'struggle': 2196, 'wave': 2197, 'receives': 2198, 'cocktails': 2199, 'handmade': 2200, \"we'd\": 2201, 'military': 2202, 'dos': 2203, 'gringos': 2204, 'finish': 2205, 'tastings': 2206, 'jeff': 2207, 'beyond': 2208, 'meh': 2209, 'milkshake': 2210, 'chocolate': 2211, 'milk': 2212, 'suck': 2213, 'excalibur': 2214, 'common': 2215, 'sense': 2216, 'appalling': 2217, 'seasoned': 2218, 'cheated': 2219, 'experiencing': 2220, 'underwhelming': 2221, 'relationship': 2222, 'parties': 2223, 'smelled': 2224, 'grease': 2225, 'trap': 2226, 'turkey': 2227, 'roast': 2228, 'pan': 2229, 'cakes': 2230, 'raving': 2231, 'sugary': 2232, 'disaster': 2233, 'tailored': 2234, 'palate': 2235, 'six': 2236, 'yummy': 2237, 'ratio': 2238, 'tenders': 2239, 'unsatisfying': 2240, 'omelets': 2241, 'summary': 2242, 'largely': 2243, 'sexy': 2244, 'outrageously': 2245, 'flirting': 2246, 'hottest': 2247, 'rock': 2248, 'casino': 2249, 'step': 2250, 'forward': 2251, 'tip': 2252, 'lady': 2253, 'roasted': 2254, 'garlic': 2255, 'bone': 2256, 'added': 2257, 'bloddy': 2258, \"mary's\": 2259, 'mussels': 2260, 'reduction': 2261, 'buffets': 2262, 'tigerlilly': 2263, 'afternoon': 2264, 'personable': 2265, 'ambience': 2266, 'playing': 2267, 'sooooo': 2268, \"let's\": 2269, 'honest': 2270, 'yama': 2271, '40min': 2272, 'arriving': 2273, 'actual': 2274, 'blandest': 2275, 'indian': 2276, 'cuisine': 2277, 'worries': 2278, 'guys': 2279, 'loving': 2280, \"he's\": 2281, 'venture': 2282, 'further': 2283, 'host': 2284, 'lack': 2285, 'bitches': 2286, 'liking': 2287, 'reasons': 2288, 'reviewing': 2289, 'phenomenal': 2290, 'venturing': 2291, 'penne': 2292, 'vodka': 2293, 'including': 2294, 'massive': 2295, 'meatloaf': 2296, 'crispy': 2297, 'wrap': 2298, 'tuna': 2299, 'bagels': 2300, 'selections': 2301, 'lox': 2302, 'capers': 2303, 'meet': 2304, 'weekend': 2305, 'suggestions': 2306, 'ate': 2307, 'bamboo': 2308, 'shoots': 2309, 'blanket': 2310, 'moz': 2311, 'subpar': 2312, 'pace': 2313, 'watched': 2314, 'attention': 2315, 'ignore': 2316, 'fiancé': 2317, 'middle': 2318, 'greeted': 2319, 'mandalay': 2320, 'forty': 2321, 'vain': 2322, 'crostini': 2323, 'highlights': 2324, 'nigiri': 2325, 'joint': 2326, 'flavored': 2327, 'voodoo': 2328, 'gluten': 2329, 'leftover': 2330, 'relocated': 2331, 'diverse': 2332, 'hella': 2333, 'salty': 2334, 'spinach': 2335, 'avocado': 2336, 'ingredients': 2337, 'handed': 2338, 'listed': 2339, 'waitresses': 2340, 'lordy': 2341, 'khao': 2342, 'soi': 2343, 'terrific': 2344, 'thrilled': 2345, 'accommodations': 2346, 'vegetarian': 2347, 'daughter': 2348, 'caught': 2349, 'judging': 2350, 'inspired': 2351, 'leaves': 2352, 'desired': 2353, 'modern': 2354, 'hip': 2355, 'maintaining': 2356, 'coziness': 2357, 'weekly': 2358, 'haunt': 2359, 'asking': 2360, 'overcooked': 2361, 'charcoal': 2362, 'verge': 2363, 'dressed': 2364, 'rudely': 2365, 'dirt': 2366, 'hits': 2367, 'quantity': 2368, 'lemon': 2369, 'raspberry': 2370, 'cocktail': 2371, 'imagined': 2372, 'decor': 2373, 'crepe': 2374, 'bits': 2375, 'gyros': 2376, 'missing': 2377, 'feeling': 2378, \"joey's\": 2379, 'voted': 2380, 'valley': 2381, 'readers': 2382, 'magazine': 2383, 'fridays': 2384, 'blows': 2385, 'disrespected': 2386, 'exceeding': 2387, 'dreamed': 2388, 'serivce': 2389, 'inviting': 2390, 'lived': 2391, '1979': 2392, 'foot': 2393, 'mixed': 2394, 'mushrooms': 2395, 'yukon': 2396, 'puree': 2397, 'corn': 2398, 'beateous': 2399, 'showed': 2400, 'climbing': 2401, 'friend': 2402, 'tartar': 2403, 'soggy': 2404, 'jamaican': 2405, 'mojitos': 2406, 'rich': 2407, 'accordingly': 2408, 'rinse': 2409, 'nude': 2410, 'bussell': 2411, 'sprouts': 2412, 'risotto': 2413, 'filet': 2414, 'pepper': 2415, 'hopefully': 2416, 'bodes': 2417, 'cook': 2418, 'wrapped': 2419, 'dates': 2420, 'unbelievable': 2421, 'otto': 2422, 'welcome': 2423, 'mains': 2424, 'uninspired': 2425, 'whenever': 2426, 'dealing': 2427, \"world's\": 2428, 'annoying': 2429, 'drunk': 2430, 'chef': 2431, 'cheeseburger': 2432, 'single': 2433, 'patty': 2434, 'uploaded': 2435, 'yeah': 2436, 'sporting': 2437, 'events': 2438, 'walls': 2439, \"tv's\": 2440, \"they'd\": 2441, 'descriptions': 2442, 'eel': 2443, 'mayo': 2444, 'sauces': 2445, 'hardest': 2446, 'honestly': 2447, \"m's\": 2448, 'supposed': 2449, 'rolled': 2450, 'eyes': 2451, 'providing': 2452, 'flavourful': 2453, 'building': 2454, 'freezing': 2455, 'reviewer': 2456, 'close': 2457, 'delights': 2458, 'ayce': 2459, 'lighting': 2460, 'mood': 2461, 'based': 2462, 'sub': 2463, 'gratitude': 2464, \"owner's\": 2465, 'privileged': 2466, 'parents': 2467, 'similar': 2468, 'silently': 2469, 'peanut': 2470, \"would've\": 2471, 'godfathers': 2472, 'tough': 2473, 'sticks': 2474, 'recall': 2475, 'tap': 2476, 'exquisite': 2477, 'thus': 2478, 'visited': 2479, 'twice': 2480, 'proclaimed': 2481, 'wildly': 2482, 'veggitarian': 2483, 'platter': 2484, 'madison': 2485, 'ironman': 2486, 'chefs': 2487, 'dedicated': 2488, 'boba': 2489, 'spots': 2490, 'jenni': 2491, 'goat': 2492, 'taco': 2493, 'skimp': 2494, 'mac': 2495, 'stinks': 2496, 'salads': 2497, 'burned': 2498, 'saganaki': 2499, 'disagree': 2500, 'fellow': 2501, 'yelpers': 2502, 'neighborhood': 2503, 'soooo': 2504, 'prepared': 2505, 'writing': 2506, 'noodles': 2507, 'chip': 2508, 'count': 2509, 'box': 2510, 'boring': 2511, 'greedy': 2512, 'corporation': 2513, 'dime': 2514, 'atrocious': 2515, 'summer': 2516, 'charming': 2517, 'outdoor': 2518, 'delightful': 2519, 'toasted': 2520, 'english': 2521, 'muffin': 2522, 'untoasted': 2523, 'bus': 2524, 'figured': 2525, 'publicly': 2526, 'loudly': 2527, 'bbq': 2528, 'lighter': 2529, 'fare': 2530, 'public': 2531, 'ways': 2532, 'downside': 2533, 'shawarrrrrrma': 2534, 'eyed': 2535, 'peas': 2536, 'unreal': 2537, 'serve': 2538, 'vinaigrette': 2539, '00': 2540, 'bites': 2541, 'honor': 2542, 'hut': 2543, 'coupons': 2544, 'unbelievably': 2545, 'covers': 2546, 'replenished': 2547, 'plain': 2548, 'yucky': 2549, '17': 2550, 'delicioso': 2551, 'spaghetti': 2552, 'vegetables': 2553, 'tucson': 2554, 'chipotle': 2555, 'succulent': 2556, 'baseball': 2557, 'brick': 2558, 'oven': 2559, 'app': 2560, 'equally': 2561, 'genuinely': 2562, 'enthusiastic': 2563, 'treat': 2564, 'sadly': 2565, 'gordon': 2566, \"ramsey's\": 2567, 'shall': 2568, 'sharply': 2569, 'evening': 2570, 'bathroom': 2571, 'door': 2572, 'offered': 2573, 'handling': 2574, 'rowdy': 2575, 'despicable': 2576, 'soup': 2577, 'lukewarm': 2578, 'craving': 2579, 'stomach': 2580, 'ache': 2581, 'ball': 2582, 'space': 2583, 'elegantly': 2584, 'customize': 2585, 'usual': 2586, 'eggplant': 2587, 'bean': 2588, 'beans': 2589, 'outta': 2590, 'inconsiderate': 2591, 'hi': 2592, 'dinners': 2593, 'outshining': 2594, 'halibut': 2595, 'starving': 2596, '90': 2597, 'disgrace': 2598, 'def': 2599, 'ethic': 2600, 'andddd': 2601, 'past': 2602, 'located': 2603, 'crystals': 2604, 'shopping': 2605, 'mall': 2606, 'aria': 2607, 'summarize': 2608, 'nay': 2609, 'transcendant': 2610, 'brings': 2611, 'pneumatic': 2612, 'condiment': 2613, 'dispenser': 2614, 'ians': 2615, 'kiddos': 2616, 'perfection': 2617, 'impeccable': 2618, 'bouchon': 2619, 'accountant': 2620, 'screwed': 2621, 'reminds': 2622, 'pop': 2623, 'shops': 2624, 'san': 2625, 'francisco': 2626, 'buldogis': 2627, 'gourmet': 2628, 'frustrated': 2629, 'petty': 2630, 'iced': 2631, 'hungry': 2632, 'teeth': 2633, 'sore': 2634, 'become': 2635, 'professional': 2636, 'companions': 2637, 'ground': 2638, 'smeared': 2639, 'tracked': 2640, 'pile': 2641, 'bird': 2642, 'poop': 2643, 'furthermore': 2644, 'operation': 2645, \"we've\": 2646, 'expert': 2647, 'connisseur': 2648, 'topic': 2649, 'jerk': 2650, 'strike': 2651, 'wants': 2652, 'rushed': 2653, 'nicest': 2654, 'owners': 2655, 'across': 2656, 'biscuits': 2657, 'appetizer': 2658, 'absolutley': 2659, '5lb': 2660, 'cow': 2661, '4ths': 2662, 'gristle': 2663, 'fat': 2664, 'steiners': 2665, 'dollars': 2666, 'fs': 2667, 'pears': 2668, 'almonds': 2669, 'spicier': 2670, 'prefer': 2671, 'ribeye': 2672, 'mesquite': 2673, 'gooodd': 2674, 'connoisseur': 2675, 'difference': 2676, 'contained': 2677, 'mouthful': 2678, 'enjoyable': 2679, 'relaxed': 2680, 'venue': 2681, 'couples': 2682, 'groups': 2683, 'nargile': 2684, 'tater': 2685, 'tots': 2686, 'southwest': 2687, 'paid': 2688, 'vanilla': 2689, 'smooth': 2690, 'profiterole': 2691, 'choux': 2692, 'pastry': 2693, 'az': 2694, \"carly's\": 2695, '35': 2696, 'forgetting': 2697, 'margaritas': 2698, 'ventilation': 2699, 'upgrading': 2700, 'letdown': 2701, 'camelback': 2702, 'flower': 2703, 'shop': 2704, 'cartel': 2705, 'trimmed': 2706, '70': 2707, 'claimed': 2708, 'handled': 2709, 'beautifully': 2710, 'bill': 2711, 'bring': 2712, 'jewel': 2713, 'las': 2714, 'limited': 2715, 'boiled': 2716, 'toro': 2717, 'tartare': 2718, 'cavier': 2719, 'extraordinary': 2720, 'thinly': 2721, 'sliced': 2722, 'wagyu': 2723, 'truffle': 2724, 'attached': 2725, 'gas': 2726, 'sign': 2727, 'decide': 2728, 'worse': 2729, 'humiliated': 2730, 'worker': 2731, 'name': 2732, 'callings': 2733, 'conclusion': 2734, 'filling': 2735, 'meals': 2736, 'daily': 2737, 'specials': 2738, 'tragedy': 2739, 'struck': 2740, 'pancake': 2741, 'crawfish': 2742, 'monster': 2743, \"mom's\": 2744, 'multi': 2745, 'grain': 2746, 'pumpkin': 2747, 'pecan': 2748, 'fluffy': 2749, 'airline': 2750, 'noca': 2751, 'gyro': 2752, 'lettuce': 2753, 'thoroughly': 2754, 'pastas': 2755, 'cheesecurds': 2756, 'typical': 2757, 'glance': 2758, 'lovely': 2759, 'finger': 2760, 'beauty': 2761, 'gone': 2762, 'greasy': 2763, 'unhealthy': 2764, 'similarly': 2765, 'man': 2766, 'apology': 2767, 'tiramisu': 2768, 'cannoli': 2769, 'sun': 2770, 'meats': 2771, 'choose': 2772, 'frenchman': 2773, 'martini': 2774, 'opinion': 2775, 'entrees': 2776, 'gc': 2777, 'sample': 2778, 'thirty': 2779, 'vacant': 2780, 'yellowtail': 2781, 'carpaccio': 2782, 'strangers': 2783, 'hello': 2784, 'boyfriend': 2785, 'donut': 2786, 'saving': 2787, 'maybe': 2788, 'disgraceful': 2789, 'suffers': 2790, 'tapas': 2791, 'vinegrette': 2792, 'baby': 2793, 'greens': 2794, 'hearts': 2795, 'hankering': 2796, 'forth': 2797, 'helped': 2798, 'consider': 2799, 'theft': 2800, 'eew': 2801, 'complete': 2802, 'overhaul': 2803, 'witnessed': 2804, 'guests': 2805, 'regularly': 2806, 'swung': 2807, 'deeply': 2808, 'efficient': 2809, 'fan': 2810, 'sucker': 2811, 'dry': 2812, 'olives': 2813, 'perpared': 2814, 'presentation': 2815, 'giant': 2816, 'slices': 2817, 'dusted': 2818, 'powdered': 2819, 'sugar': 2820, 'fo': 2821, 'accomodate': 2822, 'vegan': 2823, 'veggie': 2824, 'crumby': 2825, 'pale': 2826, 'croutons': 2827, \"it'll\": 2828, 'trips': 2829, 'crema': 2830, 'café': 2831, 'expanded': 2832, 'miss': 2833, 'philadelphia': 2834}\n"
          ],
          "name": "stdout"
        }
      ]
    },
    {
      "cell_type": "code",
      "metadata": {
        "id": "gyraLcwhTeW0"
      },
      "source": [
        "##Sequences of tokens and pad them to the same lenght with this code\n",
        "sequences = tokenizer.texts_to_sequences(training_sentences)\n",
        "padded = pad_sequences(sequences,maxlen=max_length, padding=padding_type, \n",
        "                       truncating=trunc_type)\n",
        "\n",
        "testing_sequences = tokenizer.texts_to_sequences(testing_sentences)\n",
        "testing_padded = pad_sequences(testing_sequences,maxlen=max_length, \n",
        "                               padding=padding_type, truncating=trunc_type)\n"
      ],
      "execution_count": null,
      "outputs": []
    },
    {
      "cell_type": "code",
      "metadata": {
        "colab": {
          "base_uri": "https://localhost:8080/"
        },
        "id": "YTx8WrGdUILt",
        "outputId": "1406b126-722b-429a-f002-b522563224a2"
      },
      "source": [
        "padded[2]"
      ],
      "execution_count": null,
      "outputs": [
        {
          "output_type": "execute_result",
          "data": {
            "text/plain": [
              "array([ 19,  13,   2, 613,   0,   0,   0,   0,   0,   0,   0,   0,   0,\n",
              "         0,   0,   0,   0,   0,   0,   0,   0,   0,   0,   0,   0,   0,\n",
              "         0,   0,   0,   0,   0,   0,   0,   0,   0,   0,   0,   0,   0,\n",
              "         0,   0,   0,   0,   0,   0,   0,   0,   0,   0,   0,   0,   0,\n",
              "         0,   0,   0,   0,   0,   0,   0,   0,   0,   0,   0,   0,   0,\n",
              "         0,   0,   0,   0,   0,   0,   0,   0,   0,   0,   0,   0,   0,\n",
              "         0,   0,   0,   0,   0,   0,   0,   0,   0,   0,   0,   0,   0,\n",
              "         0,   0,   0,   0,   0,   0,   0,   0,   0], dtype=int32)"
            ]
          },
          "metadata": {
            "tags": []
          },
          "execution_count": 25
        }
      ]
    },
    {
      "cell_type": "code",
      "metadata": {
        "colab": {
          "base_uri": "https://localhost:8080/"
        },
        "id": "xTnZvVchSp8H",
        "outputId": "569017a2-f84b-463f-e0bb-10c5da394244"
      },
      "source": [
        "#1593 sequences\n",
        "#100 tokens\n",
        "print(padded.shape)"
      ],
      "execution_count": null,
      "outputs": [
        {
          "output_type": "stream",
          "text": [
            "(1593, 100)\n"
          ],
          "name": "stdout"
        }
      ]
    },
    {
      "cell_type": "code",
      "metadata": {
        "colab": {
          "base_uri": "https://localhost:8080/"
        },
        "id": "G4O968agTdY7",
        "outputId": "5048bab3-9cdb-4872-ef1a-533a3ed4e1c6"
      },
      "source": [
        "print(sequences[2])"
      ],
      "execution_count": null,
      "outputs": [
        {
          "output_type": "stream",
          "text": [
            "[19, 13, 2, 613]\n"
          ],
          "name": "stdout"
        }
      ]
    },
    {
      "cell_type": "code",
      "metadata": {
        "id": "eGGa_n04TctM"
      },
      "source": [
        ""
      ],
      "execution_count": null,
      "outputs": []
    },
    {
      "cell_type": "code",
      "metadata": {
        "colab": {
          "base_uri": "https://localhost:8080/"
        },
        "id": "QI8XfwcOGKXx",
        "outputId": "90f46e84-df11-4388-8c9f-6a3ae40f4d39"
      },
      "source": [
        "# Review a Sequence\n",
        "# Let's quickly take a look at one of the padded sequences to ensure everything above worked appropriately.\n",
        "\n",
        "reverse_word_index = dict([(value, key) for (key, value) in word_index.items()])\n",
        "\n",
        "def decode_review(text):\n",
        "    return ' '.join([reverse_word_index.get(i, '?') for i in text])\n",
        "\n",
        "print(decode_review(padded[1]))\n",
        "print(training_sentences[1])"
      ],
      "execution_count": null,
      "outputs": [
        {
          "output_type": "stream",
          "text": [
            "good case excellent value ? ? ? ? ? ? ? ? ? ? ? ? ? ? ? ? ? ? ? ? ? ? ? ? ? ? ? ? ? ? ? ? ? ? ? ? ? ? ? ? ? ? ? ? ? ? ? ? ? ? ? ? ? ? ? ? ? ? ? ? ? ? ? ? ? ? ? ? ? ? ? ? ? ? ? ? ? ? ? ? ? ? ? ? ? ? ? ? ? ? ? ? ? ? ? ?\n",
            "Good case Excellent value.\n"
          ],
          "name": "stdout"
        }
      ]
    },
    {
      "cell_type": "markdown",
      "metadata": {
        "id": "qu3IPIeCJL8B"
      },
      "source": [
        "## Train a Basic Sentiment Model with Embeddings"
      ]
    },
    {
      "cell_type": "code",
      "metadata": {
        "colab": {
          "base_uri": "https://localhost:8080/"
        },
        "id": "r80ECqMfJInz",
        "outputId": "77b50bc8-8050-4dd3-a6ed-d97c8471949b"
      },
      "source": [
        "# Build a basic sentiment network\n",
        "# Note the embedding layer is first, \n",
        "# and the output is only 1 node as it is either 0 or 1 (negative or positive)\n",
        "model = tf.keras.Sequential([\n",
        "    tf.keras.layers.Embedding(vocab_size, embedding_dim, input_length=max_length), ##with the directions of the words\n",
        "    tf.keras.layers.Flatten(),\n",
        "    tf.keras.layers.Dense(6, activation='relu'),\n",
        "    tf.keras.layers.Dense(1, activation='sigmoid')\n",
        "])\n",
        "model.compile(loss='binary_crossentropy',optimizer='adam',metrics=['accuracy'])\n",
        "model.summary()"
      ],
      "execution_count": null,
      "outputs": [
        {
          "output_type": "stream",
          "text": [
            "Model: \"sequential\"\n",
            "_________________________________________________________________\n",
            "Layer (type)                 Output Shape              Param #   \n",
            "=================================================================\n",
            "embedding (Embedding)        (None, 100, 16)           16000     \n",
            "_________________________________________________________________\n",
            "flatten (Flatten)            (None, 1600)              0         \n",
            "_________________________________________________________________\n",
            "dense (Dense)                (None, 6)                 9606      \n",
            "_________________________________________________________________\n",
            "dense_1 (Dense)              (None, 1)                 7         \n",
            "=================================================================\n",
            "Total params: 25,613\n",
            "Trainable params: 25,613\n",
            "Non-trainable params: 0\n",
            "_________________________________________________________________\n"
          ],
          "name": "stdout"
        }
      ]
    },
    {
      "cell_type": "code",
      "metadata": {
        "colab": {
          "base_uri": "https://localhost:8080/"
        },
        "id": "GzEUOHtjJIlZ",
        "outputId": "1b903d09-9457-46a9-96aa-956fa6686844"
      },
      "source": [
        "num_epochs = 10\n",
        "history = model.fit(padded, training_labels_final, epochs=num_epochs, validation_data=(testing_padded, testing_labels_final))"
      ],
      "execution_count": null,
      "outputs": [
        {
          "output_type": "stream",
          "text": [
            "Epoch 1/10\n",
            "50/50 [==============================] - 1s 6ms/step - loss: 0.6928 - accuracy: 0.5217 - val_loss: 0.7007 - val_accuracy: 0.4110\n",
            "Epoch 2/10\n",
            "50/50 [==============================] - 0s 2ms/step - loss: 0.6873 - accuracy: 0.5229 - val_loss: 0.6952 - val_accuracy: 0.4110\n",
            "Epoch 3/10\n",
            "50/50 [==============================] - 0s 3ms/step - loss: 0.6747 - accuracy: 0.5348 - val_loss: 0.6980 - val_accuracy: 0.4160\n",
            "Epoch 4/10\n",
            "50/50 [==============================] - 0s 3ms/step - loss: 0.6474 - accuracy: 0.5851 - val_loss: 0.6800 - val_accuracy: 0.4862\n",
            "Epoch 5/10\n",
            "50/50 [==============================] - 0s 2ms/step - loss: 0.6019 - accuracy: 0.6685 - val_loss: 0.6540 - val_accuracy: 0.5965\n",
            "Epoch 6/10\n",
            "50/50 [==============================] - 0s 3ms/step - loss: 0.5493 - accuracy: 0.7677 - val_loss: 0.6240 - val_accuracy: 0.6516\n",
            "Epoch 7/10\n",
            "50/50 [==============================] - 0s 2ms/step - loss: 0.4251 - accuracy: 0.9121 - val_loss: 0.5177 - val_accuracy: 0.7669\n",
            "Epoch 8/10\n",
            "50/50 [==============================] - 0s 3ms/step - loss: 0.3128 - accuracy: 0.9196 - val_loss: 0.4766 - val_accuracy: 0.7794\n",
            "Epoch 9/10\n",
            "50/50 [==============================] - 0s 3ms/step - loss: 0.2427 - accuracy: 0.9429 - val_loss: 0.4727 - val_accuracy: 0.7719\n",
            "Epoch 10/10\n",
            "50/50 [==============================] - 0s 3ms/step - loss: 0.1958 - accuracy: 0.9535 - val_loss: 0.4518 - val_accuracy: 0.7769\n"
          ],
          "name": "stdout"
        }
      ]
    },
    {
      "cell_type": "code",
      "metadata": {
        "colab": {
          "base_uri": "https://localhost:8080/",
          "height": 541
        },
        "id": "dHpQtL6RK3_8",
        "outputId": "8808d085-6434-4af9-cbe6-f36636c09be1"
      },
      "source": [
        "import matplotlib.pyplot as plt\n",
        "\n",
        "def plot_graphs(history, string):\n",
        "  plt.plot(history.history[string])\n",
        "  plt.plot(history.history['val_'+string])\n",
        "  plt.xlabel(\"Epochs\")\n",
        "  plt.ylabel(string)\n",
        "  plt.legend([string, 'val_'+string])\n",
        "  plt.show()\n",
        "  \n",
        "plot_graphs(history, \"accuracy\")\n",
        "plot_graphs(history, \"loss\")"
      ],
      "execution_count": null,
      "outputs": [
        {
          "output_type": "display_data",
          "data": {
            "image/png": "[encoded data removed]",
            "text/plain": [
              "<Figure size 432x288 with 1 Axes>"
            ]
          },
          "metadata": {
            "tags": [],
            "needs_background": "light"
          }
        },
        {
          "output_type": "display_data",
          "data": {
            "image/png": "[encoded data removed]",
            "text/plain": [
              "<Figure size 432x288 with 1 Axes>"
            ]
          },
          "metadata": {
            "tags": [],
            "needs_background": "light"
          }
        }
      ]
    },
    {
      "cell_type": "code",
      "metadata": {
        "colab": {
          "base_uri": "https://localhost:8080/"
        },
        "id": "inSLBXaIJVkg",
        "outputId": "fa42fe23-bf83-40a3-c8ab-fe68ad669f8d"
      },
      "source": [
        "# Get files for visualizing the network\n",
        "# First get the weights of the embedding layer\n",
        "e = model.layers[0]\n",
        "weights = e.get_weights()[0]\n",
        "print(weights.shape) # shape: (vocab_size, embedding_dim)"
      ],
      "execution_count": null,
      "outputs": [
        {
          "output_type": "stream",
          "text": [
            "(1000, 16)\n"
          ],
          "name": "stdout"
        }
      ]
    },
    {
      "cell_type": "code",
      "metadata": {
        "id": "huyqT8d3JVhr"
      },
      "source": [
        "import io\n",
        "\n",
        "# Write out the embedding vectors and metadata\n",
        "out_v = io.open('vecs.tsv', 'w', encoding='utf-8')\n",
        "out_m = io.open('meta.tsv', 'w', encoding='utf-8')\n",
        "for word_num in range(1, vocab_size):\n",
        "  word = reverse_word_index[word_num]\n",
        "  embeddings = weights[word_num]\n",
        "  out_m.write(word + \"\\n\")\n",
        "  out_v.write('\\t'.join([str(x) for x in embeddings]) + \"\\n\")\n",
        "out_v.close()\n",
        "out_m.close()"
      ],
      "execution_count": null,
      "outputs": []
    },
    {
      "cell_type": "markdown",
      "metadata": {
        "id": "bNudNeSdJgko"
      },
      "source": [
        "# Predicting Sentiment in New Reviews\n"
      ]
    },
    {
      "cell_type": "code",
      "metadata": {
        "colab": {
          "base_uri": "https://localhost:8080/"
        },
        "id": "Zdmk_t_AGKSy",
        "outputId": "64857e94-6ff9-487c-ee19-ff60299bba4a"
      },
      "source": [
        "# Use the model to predict a review   \n",
        "fake_reviews = ['I love this phone', 'I hate spaghetti', \n",
        "                'Everything was cold',\n",
        "                'Everything was hot exactly as I wanted', \n",
        "                'Everything was green', \n",
        "                'the host seated us immediately',\n",
        "                'they gave us free chocolate cake', \n",
        "                'not sure about the wilted flowers on the table',\n",
        "                'only works when I stand on tippy toes', \n",
        "                'does not work when I stand on my head']\n",
        "\n",
        "print(fake_reviews) \n",
        "\n",
        "# Create the sequences\n",
        "padding_type='post'\n",
        "sample_sequences = tokenizer.texts_to_sequences(fake_reviews)\n",
        "fakes_padded = pad_sequences(sample_sequences, padding=padding_type, maxlen=max_length)           \n",
        "\n",
        "print('\\nHOT OFF THE PRESS! HERE ARE SOME NEWLY MINTED, ABSOLUTELY GENUINE REVIEWS!\\n')              \n",
        "\n",
        "classes = model.predict(fakes_padded)\n",
        "\n",
        "# The closer the class is to 1, the more positive the review is deemed to be\n",
        "for x in range(len(fake_reviews)):\n",
        "  print(fake_reviews[x])\n",
        "  print(classes[x])\n",
        "  print('\\n')\n",
        "\n",
        "# Try adding reviews of your own\n",
        "# Add some negative words (such as \"not\") to the good reviews and see what happens\n",
        "# For example:\n",
        "# they gave us free chocolate cake and did not charge us"
      ],
      "execution_count": null,
      "outputs": [
        {
          "output_type": "stream",
          "text": [
            "['I love this phone', 'I hate spaghetti', 'Everything was cold', 'Everything was hot exactly as I wanted', 'Everything was green', 'the host seated us immediately', 'they gave us free chocolate cake', 'not sure about the wilted flowers on the table', 'only works when I stand on tippy toes', 'does not work when I stand on my head']\n",
            "\n",
            "HOT OFF THE PRESS! HERE ARE SOME NEWLY MINTED, ABSOLUTELY GENUINE REVIEWS!\n",
            "\n",
            "I love this phone\n",
            "[0.96821225]\n",
            "\n",
            "\n",
            "I hate spaghetti\n",
            "[0.15188074]\n",
            "\n",
            "\n",
            "Everything was cold\n",
            "[0.41559014]\n",
            "\n",
            "\n",
            "Everything was hot exactly as I wanted\n",
            "[0.62261957]\n",
            "\n",
            "\n",
            "Everything was green\n",
            "[0.51872015]\n",
            "\n",
            "\n",
            "the host seated us immediately\n",
            "[0.68939114]\n",
            "\n",
            "\n",
            "they gave us free chocolate cake\n",
            "[0.680923]\n",
            "\n",
            "\n",
            "not sure about the wilted flowers on the table\n",
            "[0.04175729]\n",
            "\n",
            "\n",
            "only works when I stand on tippy toes\n",
            "[0.86422455]\n",
            "\n",
            "\n",
            "does not work when I stand on my head\n",
            "[0.01852885]\n",
            "\n",
            "\n"
          ],
          "name": "stdout"
        }
      ]
    }
  ]
}